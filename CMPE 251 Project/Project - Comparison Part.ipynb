{
 "cells": [
  {
   "cell_type": "code",
   "execution_count": 9,
   "metadata": {},
   "outputs": [],
   "source": [
    "%matplotlib inline\n",
    "\n",
    "import pandas as pd\n",
    "import matplotlib.pyplot as plt\n",
    "import numpy as np\n",
    "import seaborn as sns\n",
    "import math\n",
    "\n",
    "# Make the graphs a bit prettier, and bigger\n",
    "plt.style.use('ggplot')\n",
    "plt.rcParams['figure.figsize'] = (10, 10)\n",
    "plt.rcParams['font.family'] = 'sans-serif'\n",
    "\n",
    "# This is necessary to show lots of columns in pandas 0.12. \n",
    "# Not necessary in pandas 0.13.\n",
    "pd.set_option('display.width', 5000) \n",
    "pd.set_option('display.column', 5000)\n",
    "pd.set_option('display.max_columns', None)"
   ]
  },
  {
   "cell_type": "markdown",
   "metadata": {},
   "source": [
    "# Some Informations about project details\n",
    "\n",
    "'Name', 'Artist', 'Duration(s)', 'Popularity', 'Danceability', 'Energy', 'Loudness', 'Speechiness', 'Tempo', 'Valence'"
   ]
  },
  {
   "cell_type": "code",
   "execution_count": 16,
   "metadata": {},
   "outputs": [],
   "source": [
    "df_18 = pd.read_csv('../CMPE 251 Project/CSV/afterEkim18_aykolm.csv')\n",
    "df_19 = pd.read_csv('../CMPE 251 Project/CSV/newSeason19_aykolm.csv')\n",
    "df_20 = pd.read_csv('../CMPE 251 Project/CSV/seas20_aykolm.csv')"
   ]
  },
  {
   "cell_type": "code",
   "execution_count": 17,
   "metadata": {},
   "outputs": [],
   "source": [
    "class total_of_spec:\n",
    "    def __init__(self, *args, **kwargs):\n",
    "        super().__init__(*args, **kwargs)\n",
    "        \n",
    "    def get_total_popularity(self, playlist_csv):\n",
    "        total_popularity = 0\n",
    "        for popularity in playlist_csv['Popularity']:\n",
    "            total_popularity += (float(popularity))   \n",
    "        return total_popularity\n",
    "    \n",
    "    def get_total_danceability(self, playlist_csv):\n",
    "        total_danceability = 0.0\n",
    "        for danceability in playlist_csv['Danceability']:\n",
    "            total_danceability += (float(danceability))\n",
    "        return total_danceability\n",
    "    \n",
    "    def get_total_energy(self, playlist_csv):\n",
    "        total_energy = 0.0\n",
    "        for energy in playlist_csv['Energy']:\n",
    "            total_energy += (float(energy))\n",
    "        return total_energy\n",
    "    \n",
    "    def get_total_loudness(self, playlist_csv):\n",
    "        total_loudness = 0.0\n",
    "        for loudness in playlist_csv['Loudness']:\n",
    "            total_loudness += (float(loudness))\n",
    "        return total_loudness\n",
    "    \n",
    "    def get_total_speechiness(self, playlist_csv):\n",
    "        total_speechiness = 0.0\n",
    "        for speechiness in playlist_csv['Speechiness']:\n",
    "            total_speechiness += (float(speechiness))\n",
    "        return total_speechiness\n",
    "    \n",
    "    def get_total_tempo(self, playlist_csv):\n",
    "        total_tempo = 0.0\n",
    "        for tempo in playlist_csv['Tempo']:\n",
    "            total_tempo += (float(tempo))    \n",
    "        return total_tempo\n",
    "    \n",
    "    def get_total_valence(self, playlist_csv):\n",
    "        total_valence = 0.0\n",
    "        for valence in playlist_csv['Valence']:\n",
    "            total_valence += (float(valence))\n",
    "        return total_valence\n",
    "    \n",
    "    def get_total_features(self, playlist_csv):\n",
    "        total_pop = self.get_total_popularity(playlist_csv)\n",
    "        total_dance = self.get_total_danceability(playlist_csv)\n",
    "        total_energy = self.get_total_energy(playlist_csv)\n",
    "        total_loud = self.get_total_loudness(playlist_csv)\n",
    "        total_speech = self.get_total_speechiness(playlist_csv)\n",
    "        total_tempo = self.get_total_tempo(playlist_csv)\n",
    "        total_valence = self.get_total_valence(playlist_csv)\n",
    "        \n",
    "        total_year = []\n",
    "        total_features = [total_pop, total_dance, total_energy, total_loud, total_speech, total_tempo, total_valence] \n",
    "        \n",
    "        if '18' in playlist_csv:\n",
    "            total_year = pd.DataFrame(total_features,columns = ['Total for 2018 - 100Tracks'])\n",
    "        elif '19'in playlist_csv:\n",
    "            total_year = pd.DataFrame(total_features,columns = ['Total for 2019 - 96Tracks'])\n",
    "        else:\n",
    "            total_year = pd.DataFrame(total_features,columns = ['Total for 2020 - 100Tracks'])\n",
    "            \n",
    "        total_year.index = ['Total Popularity', 'Total Danceability', 'Total Energy', \n",
    "                            'Total Loudness', 'Total Speechiness', 'Total Tempo', 'Total Valence']\n",
    "        return total_year\n",
    "\n",
    "    def get_average_features(self,playlist_csv):\n",
    "        divider = len(playlist_csv)\n",
    "        \n",
    "        avg_pop = self.get_total_popularity(playlist_csv) / divider\n",
    "        avg_dance = self.get_total_danceability(playlist_csv) / divider\n",
    "        avg_energy = self.get_total_energy(playlist_csv) / divider\n",
    "        avg_loud = self.get_total_loudness(playlist_csv) / divider\n",
    "        avg_speech = self.get_total_speechiness(playlist_csv) / divider\n",
    "        avg_tempo = self.get_total_tempo(playlist_csv) / divider\n",
    "        avg_valence = self.get_total_valence(playlist_csv) / divider\n",
    "        \n",
    "        avg_year = []\n",
    "        avg_features = [avg_pop, avg_dance, avg_energy, avg_loud, avg_speech, avg_tempo, avg_valence]\n",
    "        \n",
    "        if '18' in playlist_csv:\n",
    "            avg_year = pd.DataFrame(avg_features,columns = ['Average for 2018'])\n",
    "        elif '19'in playlist_csv:\n",
    "            avg_year = pd.DataFrame(avg_features,columns = ['Average for 2019'])\n",
    "        else:\n",
    "            avg_year = pd.DataFrame(avg_features,columns = ['Average for 2020'])\n",
    "            \n",
    "        avg_year.index = ['Avg Popularity', 'Avg Danceability', 'Avg Energy', \n",
    "                            'Avg Loudness', 'Avg Speechiness', 'Avg Tempo', 'Avg Valence']\n",
    "        return avg_year    "
   ]
  },
  {
   "cell_type": "code",
   "execution_count": 18,
   "metadata": {},
   "outputs": [],
   "source": [
    "tos = total_of_spec()"
   ]
  },
  {
   "cell_type": "code",
   "execution_count": 19,
   "metadata": {},
   "outputs": [],
   "source": [
    "total_18 = tos.get_total_features(df_18)\n",
    "total_19 = tos.get_total_features(df_19)\n",
    "total_20 = tos.get_total_features(df_20)\n",
    "\n",
    "Popularity = \"(0-100.0)\"\n",
    "Danceability = \"(0-1.0)\"\n",
    "Energy = \"(0-1.0)\"\n",
    "Loudness = \"in dB (-60.0-0)\"\n",
    "Speechiness = \"(0-1.0)\"\n",
    "Tempo = \"in RPM (0-250?)\"\n",
    "Valence = \"Higher -> positive (0-1.0)\"\n",
    "\n",
    "total_info = [Popularity,Danceability,Energy,Loudness,Speechiness,Tempo,Valence]\n",
    "\n",
    "total_pd = pd.DataFrame(total_info, columns = ['Min-Max Values - 1 track'])\n",
    "total_pd.index = ['Total Popularity', 'Total Danceability', 'Total Energy', \n",
    "                  'Total Loudness', 'Total Speechiness', 'Total Tempo', 'Total Valence']"
   ]
  },
  {
   "cell_type": "markdown",
   "metadata": {},
   "source": [
    "# General Comparison by year"
   ]
  },
  {
   "cell_type": "code",
   "execution_count": 20,
   "metadata": {},
   "outputs": [
    {
     "data": {
      "text/html": [
       "<div>\n",
       "<style scoped>\n",
       "    .dataframe tbody tr th:only-of-type {\n",
       "        vertical-align: middle;\n",
       "    }\n",
       "\n",
       "    .dataframe tbody tr th {\n",
       "        vertical-align: top;\n",
       "    }\n",
       "\n",
       "    .dataframe thead th {\n",
       "        text-align: right;\n",
       "    }\n",
       "</style>\n",
       "<table border=\"1\" class=\"dataframe\">\n",
       "  <thead>\n",
       "    <tr style=\"text-align: right;\">\n",
       "      <th></th>\n",
       "      <th>Total for 2018 - 100Tracks</th>\n",
       "      <th>Total for 2019 - 96Tracks</th>\n",
       "      <th>Total for 2020 - 100Tracks</th>\n",
       "      <th>Min-Max Values - 1 track</th>\n",
       "    </tr>\n",
       "  </thead>\n",
       "  <tbody>\n",
       "    <tr>\n",
       "      <th>Total Popularity</th>\n",
       "      <td>3224.0000</td>\n",
       "      <td>3459.0000</td>\n",
       "      <td>5413.0000</td>\n",
       "      <td>(0-100.0)</td>\n",
       "    </tr>\n",
       "    <tr>\n",
       "      <th>Total Danceability</th>\n",
       "      <td>72.8670</td>\n",
       "      <td>68.8700</td>\n",
       "      <td>68.4610</td>\n",
       "      <td>(0-1.0)</td>\n",
       "    </tr>\n",
       "    <tr>\n",
       "      <th>Total Energy</th>\n",
       "      <td>67.4570</td>\n",
       "      <td>60.8860</td>\n",
       "      <td>65.2400</td>\n",
       "      <td>(0-1.0)</td>\n",
       "    </tr>\n",
       "    <tr>\n",
       "      <th>Total Loudness</th>\n",
       "      <td>-666.6450</td>\n",
       "      <td>-674.6330</td>\n",
       "      <td>-698.3520</td>\n",
       "      <td>in dB (-60.0-0)</td>\n",
       "    </tr>\n",
       "    <tr>\n",
       "      <th>Total Speechiness</th>\n",
       "      <td>16.8535</td>\n",
       "      <td>15.8573</td>\n",
       "      <td>15.5379</td>\n",
       "      <td>(0-1.0)</td>\n",
       "    </tr>\n",
       "    <tr>\n",
       "      <th>Total Tempo</th>\n",
       "      <td>12227.2960</td>\n",
       "      <td>11431.8620</td>\n",
       "      <td>12703.1550</td>\n",
       "      <td>in RPM (0-250?)</td>\n",
       "    </tr>\n",
       "    <tr>\n",
       "      <th>Total Valence</th>\n",
       "      <td>41.2156</td>\n",
       "      <td>44.0311</td>\n",
       "      <td>42.1939</td>\n",
       "      <td>Higher -&gt; positive (0-1.0)</td>\n",
       "    </tr>\n",
       "  </tbody>\n",
       "</table>\n",
       "</div>"
      ],
      "text/plain": [
       "                    Total for 2018 - 100Tracks  Total for 2019 - 96Tracks  Total for 2020 - 100Tracks    Min-Max Values - 1 track\n",
       "Total Popularity                     3224.0000                  3459.0000                   5413.0000                   (0-100.0)\n",
       "Total Danceability                     72.8670                    68.8700                     68.4610                     (0-1.0)\n",
       "Total Energy                           67.4570                    60.8860                     65.2400                     (0-1.0)\n",
       "Total Loudness                       -666.6450                  -674.6330                   -698.3520             in dB (-60.0-0)\n",
       "Total Speechiness                      16.8535                    15.8573                     15.5379                     (0-1.0)\n",
       "Total Tempo                         12227.2960                 11431.8620                  12703.1550             in RPM (0-250?)\n",
       "Total Valence                          41.2156                    44.0311                     42.1939  Higher -> positive (0-1.0)"
      ]
     },
     "execution_count": 20,
     "metadata": {},
     "output_type": "execute_result"
    }
   ],
   "source": [
    "general = total_18 + total_19 + total_20 + total_pd\n",
    "\n",
    "general.loc[:,'Total for 2018 - 100Tracks'] = total_18\n",
    "general.loc[:,'Total for 2019 - 96Tracks'] = total_19\n",
    "general.loc[:,'Total for 2020 - 100Tracks'] = total_20\n",
    "general.loc[:,'Min-Max Values - 1 track'] = total_pd\n",
    "general = general[['Total for 2018 - 100Tracks', 'Total for 2019 - 96Tracks',\n",
    "                   'Total for 2020 - 100Tracks', 'Min-Max Values - 1 track']]\n",
    "general.to_csv('General.csv', sep= ',')\n",
    "general"
   ]
  },
  {
   "cell_type": "code",
   "execution_count": 21,
   "metadata": {},
   "outputs": [
    {
     "data": {
      "text/plain": [
       "<matplotlib.axes._subplots.AxesSubplot at 0x1a1d779cd30>"
      ]
     },
     "execution_count": 21,
     "metadata": {},
     "output_type": "execute_result"
    },
    {
     "data": {
      "image/png": "[encoded data removed]",
      "text/plain": [
       "<Figure size 720x720 with 1 Axes>"
      ]
     },
     "metadata": {},
     "output_type": "display_data"
    }
   ],
   "source": [
    "general.plot(kind = 'barh')"
   ]
  },
  {
   "cell_type": "markdown",
   "metadata": {},
   "source": [
    "# Average Comparison by year"
   ]
  },
  {
   "cell_type": "code",
   "execution_count": 22,
   "metadata": {},
   "outputs": [],
   "source": [
    "avg_18 = tos.get_average_features(df_18)\n",
    "avg_19 = tos.get_average_features(df_19)\n",
    "avg_20 = tos.get_average_features(df_20)\n",
    "\n",
    "avg_info = [Popularity,Danceability,Energy,Loudness,Speechiness,Tempo,Valence]\n",
    "\n",
    "avg_pd = pd.DataFrame(avg_info, columns = ['Min-Max Values'])\n",
    "avg_pd.index = ['Avg Popularity', 'Avg Danceability', 'Avg Energy', \n",
    "                  'Avg Loudness', 'Avg Speechiness', 'Avg Tempo', 'Avg Valence']"
   ]
  },
  {
   "cell_type": "code",
   "execution_count": 23,
   "metadata": {},
   "outputs": [
    {
     "data": {
      "text/html": [
       "<div>\n",
       "<style scoped>\n",
       "    .dataframe tbody tr th:only-of-type {\n",
       "        vertical-align: middle;\n",
       "    }\n",
       "\n",
       "    .dataframe tbody tr th {\n",
       "        vertical-align: top;\n",
       "    }\n",
       "\n",
       "    .dataframe thead th {\n",
       "        text-align: right;\n",
       "    }\n",
       "</style>\n",
       "<table border=\"1\" class=\"dataframe\">\n",
       "  <thead>\n",
       "    <tr style=\"text-align: right;\">\n",
       "      <th></th>\n",
       "      <th>Average for 2018</th>\n",
       "      <th>Average for 2019</th>\n",
       "      <th>Average for 2020</th>\n",
       "      <th>Min-Max Values</th>\n",
       "    </tr>\n",
       "  </thead>\n",
       "  <tbody>\n",
       "    <tr>\n",
       "      <th>Avg Popularity</th>\n",
       "      <td>32.240000</td>\n",
       "      <td>36.031250</td>\n",
       "      <td>54.130000</td>\n",
       "      <td>(0-100.0)</td>\n",
       "    </tr>\n",
       "    <tr>\n",
       "      <th>Avg Danceability</th>\n",
       "      <td>0.728670</td>\n",
       "      <td>0.717396</td>\n",
       "      <td>0.684610</td>\n",
       "      <td>(0-1.0)</td>\n",
       "    </tr>\n",
       "    <tr>\n",
       "      <th>Avg Energy</th>\n",
       "      <td>0.674570</td>\n",
       "      <td>0.634229</td>\n",
       "      <td>0.652400</td>\n",
       "      <td>(0-1.0)</td>\n",
       "    </tr>\n",
       "    <tr>\n",
       "      <th>Avg Loudness</th>\n",
       "      <td>-6.666450</td>\n",
       "      <td>-7.027427</td>\n",
       "      <td>-6.983520</td>\n",
       "      <td>in dB (-60.0-0)</td>\n",
       "    </tr>\n",
       "    <tr>\n",
       "      <th>Avg Speechiness</th>\n",
       "      <td>0.168535</td>\n",
       "      <td>0.165180</td>\n",
       "      <td>0.155379</td>\n",
       "      <td>(0-1.0)</td>\n",
       "    </tr>\n",
       "    <tr>\n",
       "      <th>Avg Tempo</th>\n",
       "      <td>122.272960</td>\n",
       "      <td>119.081896</td>\n",
       "      <td>127.031550</td>\n",
       "      <td>in RPM (0-250?)</td>\n",
       "    </tr>\n",
       "    <tr>\n",
       "      <th>Avg Valence</th>\n",
       "      <td>0.412156</td>\n",
       "      <td>0.458657</td>\n",
       "      <td>0.421939</td>\n",
       "      <td>Higher -&gt; positive (0-1.0)</td>\n",
       "    </tr>\n",
       "  </tbody>\n",
       "</table>\n",
       "</div>"
      ],
      "text/plain": [
       "                  Average for 2018  Average for 2019  Average for 2020              Min-Max Values\n",
       "Avg Popularity           32.240000         36.031250         54.130000                   (0-100.0)\n",
       "Avg Danceability          0.728670          0.717396          0.684610                     (0-1.0)\n",
       "Avg Energy                0.674570          0.634229          0.652400                     (0-1.0)\n",
       "Avg Loudness             -6.666450         -7.027427         -6.983520             in dB (-60.0-0)\n",
       "Avg Speechiness           0.168535          0.165180          0.155379                     (0-1.0)\n",
       "Avg Tempo               122.272960        119.081896        127.031550             in RPM (0-250?)\n",
       "Avg Valence               0.412156          0.458657          0.421939  Higher -> positive (0-1.0)"
      ]
     },
     "execution_count": 23,
     "metadata": {},
     "output_type": "execute_result"
    }
   ],
   "source": [
    "general_avg = pd.DataFrame()\n",
    "general_avg = avg_18 + avg_19 + avg_20 + avg_pd\n",
    "\n",
    "general_avg.loc[:,'Average for 2018'] = avg_18\n",
    "general_avg.loc[:,'Average for 2019'] = avg_19\n",
    "general_avg.loc[:,'Average for 2020'] = avg_20\n",
    "general_avg.loc[:,'Min-Max Values'] = avg_pd\n",
    "\n",
    "general_avg = general_avg[['Average for 2018', 'Average for 2019', 'Average for 2020', 'Min-Max Values']]\n",
    "general_avg.to_csv('General Avg.csv', sep= ',')\n",
    "general_avg"
   ]
  },
  {
   "cell_type": "code",
   "execution_count": 24,
   "metadata": {},
   "outputs": [
    {
     "data": {
      "text/plain": [
       "<matplotlib.axes._subplots.AxesSubplot at 0x1a1d7ea7eb0>"
      ]
     },
     "execution_count": 24,
     "metadata": {},
     "output_type": "execute_result"
    },
    {
     "data": {
      "image/png": "[encoded data removed]",
      "text/plain": [
       "<Figure size 720x720 with 1 Axes>"
      ]
     },
     "metadata": {},
     "output_type": "display_data"
    }
   ],
   "source": [
    "general_avg.plot(kind = 'barh')"
   ]
  },
  {
   "cell_type": "code",
   "execution_count": null,
   "metadata": {},
   "outputs": [],
   "source": []
  },
  {
   "cell_type": "code",
   "execution_count": null,
   "metadata": {},
   "outputs": [],
   "source": []
  }
 ],
 "metadata": {
  "kernelspec": {
   "display_name": "Python 3",
   "language": "python",
   "name": "python3"
  },
  "language_info": {
   "codemirror_mode": {
    "name": "ipython",
    "version": 3
   },
   "file_extension": ".py",
   "mimetype": "text/x-python",
   "name": "python",
   "nbconvert_exporter": "python",
   "pygments_lexer": "ipython3",
   "version": "3.8.3"
  }
 },
 "nbformat": 4,
 "nbformat_minor": 4
}
